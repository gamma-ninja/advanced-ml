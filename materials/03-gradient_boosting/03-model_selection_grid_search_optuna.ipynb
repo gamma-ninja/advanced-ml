{
 "cells": [
  {
   "cell_type": "markdown",
   "metadata": {},
   "source": [
    "# Efficient hyperparameter search with GridSearchCV and optuna\n",
    "\n",
    "```\n",
    "Authors: Alexandre Gramfort\n",
    "         Thomas Moreau\n",
    "```\n",
    "\n",
    "adapted from the work of Olivier Grisel and Andreas Mueller."
   ]
  },
  {
   "cell_type": "code",
   "execution_count": 2,
   "metadata": {},
   "outputs": [],
   "source": [
    "%matplotlib inline\n",
    "import numpy as np\n",
    "import matplotlib.pyplot as plt"
   ]
  },
  {
   "cell_type": "markdown",
   "metadata": {},
   "source": [
    "Most models have hyperparameters that influence how complex functions they can learn. Think the depth of a decision tree."
   ]
  },
  {
   "cell_type": "markdown",
   "metadata": {},
   "source": [
    "<img src=\"figures/overfitting_underfitting_cartoon.svg\" width=\"60%\">"
   ]
  },
  {
   "cell_type": "markdown",
   "metadata": {},
   "source": [
    "## Hyperparameters, Over-fitting, and Under-fitting\n",
    "\n",
    "Unfortunately, there is no general rule how to find the sweet spot, and so machine learning practitioners have to find the best trade-off of model-complexity and generalization by trying several hyperparameter settings. Hyperparameters are the internal knobs or tuning parameters of a machine learning algorithm (in contrast to model parameters that the algorithm learns from the training data -- for example, the weight coefficients of a linear regression model); the depth of a decision tree or the number of trees in a gradient boosting are such hyperparameters.\n",
    "\n",
    "Most commonly this \"hyperparameter tuning\" is done using a brute force search, for example over multiple values of ``max_depth``:"
   ]
  },
  {
   "cell_type": "code",
   "execution_count": 3,
   "metadata": {},
   "outputs": [
    {
     "name": "stdout",
     "output_type": "stream",
     "text": [
      "Loading data...\n",
      "max_depth: 1, average score: 0.041434776747087156\n",
      "max_depth: 3, average score: 0.0998374290737992\n",
      "max_depth: 5, average score: 0.1165850881789547\n",
      "max_depth: 10, average score: -0.12266442993494779\n",
      "max_depth: 20, average score: -0.5144080397472943\n"
     ]
    }
   ],
   "source": [
    "import pandas as pd\n",
    "\n",
    "from sklearn.model_selection import cross_val_score, KFold\n",
    "from sklearn.tree import DecisionTreeRegressor\n",
    "\n",
    "print('Loading data...')\n",
    "# load or create your dataset\n",
    "df_train = pd.read_csv('datasets/regression.train', header=None, sep='\\t')\n",
    "df_test = pd.read_csv('datasets/regression.test', header=None, sep='\\t')\n",
    "\n",
    "df = pd.concat([df_train, df_test], axis=0)\n",
    "y = df[0].values\n",
    "X = df.drop(0, axis=1).values\n",
    "\n",
    "cv = KFold(shuffle=True, n_splits=5, random_state=42)\n",
    "\n",
    "reg = DecisionTreeRegressor()\n",
    "\n",
    "# for each parameter setting do cross-validation:\n",
    "for max_depth in [1, 3, 5, 10, 20]:\n",
    "    reg.set_params(max_depth=max_depth)\n",
    "    scores = cross_val_score(reg, X, y, cv=cv, scoring=\"r2\")\n",
    "    print(f\"max_depth: {max_depth}, average score: {np.mean(scores)}\")"
   ]
  },
  {
   "cell_type": "markdown",
   "metadata": {},
   "source": [
    "There is a function in scikit-learn, called ``validation_plot`` to reproduce the cartoon figure above. It plots one parameter, such as the number of neighbors, against training and validation error (using cross-validation):"
   ]
  },
  {
   "cell_type": "code",
   "execution_count": 4,
   "metadata": {},
   "outputs": [
    {
     "data": {
      "image/png": "[encoded data removed]",
      "text/plain": [
       "<Figure size 432x288 with 1 Axes>"
      ]
     },
     "metadata": {
      "needs_background": "light"
     },
     "output_type": "display_data"
    }
   ],
   "source": [
    "from sklearn.model_selection import validation_curve\n",
    "\n",
    "max_depth = [1, 2, 3, 4, 5, 6, 7]\n",
    "    \n",
    "train_scores, test_scores = validation_curve(\n",
    "    reg, X, y, param_name=\"max_depth\",\n",
    "    param_range=max_depth, cv=cv,\n",
    "    scoring=\"r2\"\n",
    ")\n",
    "plt.plot(max_depth, train_scores.mean(axis=1), label=\"train R2\")\n",
    "plt.plot(max_depth, test_scores.mean(axis=1), label=\"test R2\")\n",
    "plt.ylabel('R2')\n",
    "plt.xlabel('Tree depth')\n",
    "plt.xlim([1, max(max_depth)])\n",
    "plt.legend(loc=\"best\");"
   ]
  },
  {
   "cell_type": "markdown",
   "metadata": {},
   "source": [
    "To automate hyperparameter search there is a built-in class in scikit-learn, ``GridSearchCV``. ``GridSearchCV`` takes a dictionary that describes the parameters that should be tried and a model to train.\n",
    "\n",
    "The grid of parameters is defined as a dictionary, where the keys are the parameters and the values are the settings to be tested.\n",
    "\n",
    "To inspect training score on the different folds, the parameter ``return_train_score`` is set to ``True``."
   ]
  },
  {
   "cell_type": "code",
   "execution_count": 6,
   "metadata": {},
   "outputs": [],
   "source": [
    "from sklearn.model_selection import GridSearchCV\n",
    "param_grid = {'max_depth': max_depth}\n",
    "\n",
    "grid = GridSearchCV(DecisionTreeRegressor(), param_grid=param_grid,\n",
    "                    cv=cv, verbose=3,\n",
    "                    return_train_score=True, n_jobs=-1)"
   ]
  },
  {
   "cell_type": "markdown",
   "metadata": {},
   "source": [
    "One of the great things about GridSearchCV is that it is a *meta-estimator*. It takes an estimator like `DecisionTreeRegressor` above, and creates a new estimator, that behaves exactly the same - in this case, like a regressor.\n",
    "So we can call ``fit`` on it, to train it:"
   ]
  },
  {
   "cell_type": "code",
   "execution_count": 7,
   "metadata": {
    "scrolled": true
   },
   "outputs": [
    {
     "name": "stdout",
     "output_type": "stream",
     "text": [
      "Fitting 5 folds for each of 7 candidates, totalling 35 fits\n",
      "[CV 2/5] END ...max_depth=1;, score=(train=0.043, test=0.059) total time=   0.0s\n",
      "[CV 1/5] END ...max_depth=1;, score=(train=0.049, test=0.037) total time=   0.0s\n",
      "[CV 3/5] END ...max_depth=1;, score=(train=0.052, test=0.022) total time=   0.0s\n",
      "[CV 4/5] END ...max_depth=1;, score=(train=0.047, test=0.042) total time=   0.0s\n",
      "[CV 5/5] END ...max_depth=1;, score=(train=0.047, test=0.046) total time=   0.0s\n",
      "[CV 4/5] END ...max_depth=4;, score=(train=0.160, test=0.068) total time=   0.1s\n",
      "[CV 2/5] END ...max_depth=4;, score=(train=0.165, test=0.154) total time=   0.1s\n",
      "[CV 3/5] END ...max_depth=4;, score=(train=0.165, test=0.107) total time=   0.1s\n",
      "[CV 1/5] END ...max_depth=2;, score=(train=0.082, test=0.068) total time=   0.0s\n",
      "[CV 3/5] END ...max_depth=2;, score=(train=0.087, test=0.055) total time=   0.0s\n",
      "[CV 2/5] END ...max_depth=2;, score=(train=0.084, test=0.109) total time=   0.0s\n",
      "[CV 5/5] END ...max_depth=4;, score=(train=0.165, test=0.144) total time=   0.1s\n",
      "[CV 2/5] END ...max_depth=5;, score=(train=0.206, test=0.144) total time=   0.1s\n",
      "[CV 3/5] END ...max_depth=5;, score=(train=0.206, test=0.088) total time=   0.1s\n",
      "[CV 1/5] END ...max_depth=5;, score=(train=0.209, test=0.111) total time=   0.1s\n",
      "[CV 4/5] END ...max_depth=5;, score=(train=0.202, test=0.100) total time=   0.1s\n",
      "[CV 5/5] END ...max_depth=5;, score=(train=0.209, test=0.140) total time=   0.1s\n",
      "[CV 4/5] END ...max_depth=2;, score=(train=0.083, test=0.053) total time=   0.0s\n",
      "[CV 5/5] END ...max_depth=2;, score=(train=0.090, test=0.081) total time=   0.1s\n",
      "[CV 1/5] END ...max_depth=6;, score=(train=0.256, test=0.092) total time=   0.1s\n",
      "[CV 3/5] END ...max_depth=6;, score=(train=0.264, test=0.073) total time=   0.1s\n",
      "[CV 5/5] END ...max_depth=3;, score=(train=0.124, test=0.120) total time=   0.1s\n",
      "[CV 4/5] END ...max_depth=6;, score=(train=0.252, test=0.101) total time=   0.1s\n",
      "[CV 5/5] END ...max_depth=6;, score=(train=0.263, test=0.130) total time=   0.2s\n",
      "[CV 2/5] END ...max_depth=6;, score=(train=0.264, test=0.145) total time=   0.2s\n",
      "[CV 1/5] END ...max_depth=3;, score=(train=0.123, test=0.091) total time=   0.1s\n",
      "[CV 2/5] END ...max_depth=3;, score=(train=0.121, test=0.134) total time=   0.1s\n",
      "[CV 3/5] END ...max_depth=3;, score=(train=0.132, test=0.098) total time=   0.1s\n",
      "[CV 2/5] END ...max_depth=7;, score=(train=0.331, test=0.116) total time=   0.2s\n",
      "[CV 1/5] END ...max_depth=7;, score=(train=0.317, test=0.076) total time=   0.2s\n",
      "[CV 4/5] END ...max_depth=3;, score=(train=0.115, test=0.056) total time=   0.1s\n",
      "[CV 1/5] END ...max_depth=4;, score=(train=0.162, test=0.096) total time=   0.1s\n",
      "[CV 3/5] END ...max_depth=7;, score=(train=0.326, test=0.052) total time=   0.1s\n",
      "[CV 4/5] END ...max_depth=7;, score=(train=0.311, test=0.070) total time=   0.1s\n",
      "[CV 5/5] END ...max_depth=7;, score=(train=0.325, test=0.109) total time=   0.1s\n"
     ]
    },
    {
     "data": {
      "text/plain": [
       "GridSearchCV(cv=KFold(n_splits=5, random_state=42, shuffle=True),\n",
       "             estimator=DecisionTreeRegressor(), n_jobs=-1,\n",
       "             param_grid={'max_depth': [1, 2, 3, 4, 5, 6, 7]},\n",
       "             return_train_score=True, verbose=3)"
      ]
     },
     "execution_count": 7,
     "metadata": {},
     "output_type": "execute_result"
    }
   ],
   "source": [
    "grid.fit(X, y)"
   ]
  },
  {
   "cell_type": "markdown",
   "metadata": {},
   "source": [
    "What ``fit`` does is a bit more involved then what we did above. First, it runs the same loop with cross-validation, to find the best parameter combination.\n",
    "Once it has the best combination, it runs fit again on all data passed to fit (without cross-validation), to built a single new model using the best parameter setting."
   ]
  },
  {
   "cell_type": "markdown",
   "metadata": {},
   "source": [
    "Then, as with all models, we can use ``predict`` or ``score``:\n"
   ]
  },
  {
   "cell_type": "code",
   "execution_count": 8,
   "metadata": {},
   "outputs": [
    {
     "data": {
      "text/plain": [
       "array([0.8697479 , 0.8697479 , 0.68272425, ..., 0.61587302, 0.28220859,\n",
       "       0.51453488])"
      ]
     },
     "execution_count": 8,
     "metadata": {},
     "output_type": "execute_result"
    }
   ],
   "source": [
    "grid.predict(X)"
   ]
  },
  {
   "cell_type": "markdown",
   "metadata": {},
   "source": [
    "You can inspect the best parameters found by ``GridSearchCV`` in the ``best_params_`` attribute, and the best score in the ``best_score_`` attribute:"
   ]
  },
  {
   "cell_type": "code",
   "execution_count": 9,
   "metadata": {},
   "outputs": [
    {
     "name": "stdout",
     "output_type": "stream",
     "text": [
      "0.1165850881789547\n"
     ]
    }
   ],
   "source": [
    "print(grid.best_score_)"
   ]
  },
  {
   "cell_type": "code",
   "execution_count": 10,
   "metadata": {},
   "outputs": [
    {
     "name": "stdout",
     "output_type": "stream",
     "text": [
      "{'max_depth': 5}\n"
     ]
    }
   ],
   "source": [
    "print(grid.best_params_)"
   ]
  },
  {
   "cell_type": "markdown",
   "metadata": {},
   "source": [
    "But you can investigate the performance and much more for each set of parameter values by accessing the `cv_results_` attributes. The `cv_results_` attribute is a dictionary where each key is a string and each value is array. It can therefore be used to make a pandas DataFrame."
   ]
  },
  {
   "cell_type": "code",
   "execution_count": 11,
   "metadata": {},
   "outputs": [
    {
     "data": {
      "text/plain": [
       "dict"
      ]
     },
     "execution_count": 11,
     "metadata": {},
     "output_type": "execute_result"
    }
   ],
   "source": [
    "type(grid.cv_results_)"
   ]
  },
  {
   "cell_type": "code",
   "execution_count": 12,
   "metadata": {},
   "outputs": [
    {
     "name": "stdout",
     "output_type": "stream",
     "text": [
      "dict_keys(['mean_fit_time', 'std_fit_time', 'mean_score_time', 'std_score_time', 'param_max_depth', 'params', 'split0_test_score', 'split1_test_score', 'split2_test_score', 'split3_test_score', 'split4_test_score', 'mean_test_score', 'std_test_score', 'rank_test_score', 'split0_train_score', 'split1_train_score', 'split2_train_score', 'split3_train_score', 'split4_train_score', 'mean_train_score', 'std_train_score'])\n"
     ]
    }
   ],
   "source": [
    "print(grid.cv_results_.keys())"
   ]
  },
  {
   "cell_type": "code",
   "execution_count": 13,
   "metadata": {},
   "outputs": [
    {
     "data": {
      "text/html": [
       "<div>\n",
       "<style scoped>\n",
       "    .dataframe tbody tr th:only-of-type {\n",
       "        vertical-align: middle;\n",
       "    }\n",
       "\n",
       "    .dataframe tbody tr th {\n",
       "        vertical-align: top;\n",
       "    }\n",
       "\n",
       "    .dataframe thead th {\n",
       "        text-align: right;\n",
       "    }\n",
       "</style>\n",
       "<table border=\"1\" class=\"dataframe\">\n",
       "  <thead>\n",
       "    <tr style=\"text-align: right;\">\n",
       "      <th></th>\n",
       "      <th>mean_fit_time</th>\n",
       "      <th>std_fit_time</th>\n",
       "      <th>mean_score_time</th>\n",
       "      <th>std_score_time</th>\n",
       "      <th>param_max_depth</th>\n",
       "      <th>params</th>\n",
       "      <th>split0_test_score</th>\n",
       "      <th>split1_test_score</th>\n",
       "      <th>split2_test_score</th>\n",
       "      <th>split3_test_score</th>\n",
       "      <th>...</th>\n",
       "      <th>mean_test_score</th>\n",
       "      <th>std_test_score</th>\n",
       "      <th>rank_test_score</th>\n",
       "      <th>split0_train_score</th>\n",
       "      <th>split1_train_score</th>\n",
       "      <th>split2_train_score</th>\n",
       "      <th>split3_train_score</th>\n",
       "      <th>split4_train_score</th>\n",
       "      <th>mean_train_score</th>\n",
       "      <th>std_train_score</th>\n",
       "    </tr>\n",
       "  </thead>\n",
       "  <tbody>\n",
       "    <tr>\n",
       "      <th>0</th>\n",
       "      <td>0.022619</td>\n",
       "      <td>0.005599</td>\n",
       "      <td>0.001818</td>\n",
       "      <td>0.001133</td>\n",
       "      <td>1</td>\n",
       "      <td>{'max_depth': 1}</td>\n",
       "      <td>0.037408</td>\n",
       "      <td>0.059269</td>\n",
       "      <td>0.022200</td>\n",
       "      <td>0.041881</td>\n",
       "      <td>...</td>\n",
       "      <td>0.041435</td>\n",
       "      <td>0.012077</td>\n",
       "      <td>7</td>\n",
       "      <td>0.048678</td>\n",
       "      <td>0.042985</td>\n",
       "      <td>0.052221</td>\n",
       "      <td>0.047135</td>\n",
       "      <td>0.046596</td>\n",
       "      <td>0.047523</td>\n",
       "      <td>0.003000</td>\n",
       "    </tr>\n",
       "    <tr>\n",
       "      <th>1</th>\n",
       "      <td>0.042427</td>\n",
       "      <td>0.005413</td>\n",
       "      <td>0.001009</td>\n",
       "      <td>0.000057</td>\n",
       "      <td>2</td>\n",
       "      <td>{'max_depth': 2}</td>\n",
       "      <td>0.067777</td>\n",
       "      <td>0.108785</td>\n",
       "      <td>0.055390</td>\n",
       "      <td>0.052709</td>\n",
       "      <td>...</td>\n",
       "      <td>0.073139</td>\n",
       "      <td>0.020465</td>\n",
       "      <td>6</td>\n",
       "      <td>0.082155</td>\n",
       "      <td>0.083899</td>\n",
       "      <td>0.087353</td>\n",
       "      <td>0.082700</td>\n",
       "      <td>0.090348</td>\n",
       "      <td>0.085291</td>\n",
       "      <td>0.003108</td>\n",
       "    </tr>\n",
       "    <tr>\n",
       "      <th>2</th>\n",
       "      <td>0.071007</td>\n",
       "      <td>0.008674</td>\n",
       "      <td>0.001026</td>\n",
       "      <td>0.000116</td>\n",
       "      <td>3</td>\n",
       "      <td>{'max_depth': 3}</td>\n",
       "      <td>0.091159</td>\n",
       "      <td>0.134029</td>\n",
       "      <td>0.097577</td>\n",
       "      <td>0.056400</td>\n",
       "      <td>...</td>\n",
       "      <td>0.099837</td>\n",
       "      <td>0.026622</td>\n",
       "      <td>4</td>\n",
       "      <td>0.122633</td>\n",
       "      <td>0.120839</td>\n",
       "      <td>0.131610</td>\n",
       "      <td>0.114817</td>\n",
       "      <td>0.123688</td>\n",
       "      <td>0.122717</td>\n",
       "      <td>0.005403</td>\n",
       "    </tr>\n",
       "    <tr>\n",
       "      <th>3</th>\n",
       "      <td>0.071180</td>\n",
       "      <td>0.001705</td>\n",
       "      <td>0.001175</td>\n",
       "      <td>0.000098</td>\n",
       "      <td>4</td>\n",
       "      <td>{'max_depth': 4}</td>\n",
       "      <td>0.095534</td>\n",
       "      <td>0.154370</td>\n",
       "      <td>0.107212</td>\n",
       "      <td>0.067739</td>\n",
       "      <td>...</td>\n",
       "      <td>0.113711</td>\n",
       "      <td>0.031745</td>\n",
       "      <td>2</td>\n",
       "      <td>0.162374</td>\n",
       "      <td>0.164971</td>\n",
       "      <td>0.164933</td>\n",
       "      <td>0.160026</td>\n",
       "      <td>0.164627</td>\n",
       "      <td>0.163386</td>\n",
       "      <td>0.001937</td>\n",
       "    </tr>\n",
       "    <tr>\n",
       "      <th>4</th>\n",
       "      <td>0.096504</td>\n",
       "      <td>0.019871</td>\n",
       "      <td>0.001246</td>\n",
       "      <td>0.000203</td>\n",
       "      <td>5</td>\n",
       "      <td>{'max_depth': 5}</td>\n",
       "      <td>0.110940</td>\n",
       "      <td>0.144012</td>\n",
       "      <td>0.087920</td>\n",
       "      <td>0.099910</td>\n",
       "      <td>...</td>\n",
       "      <td>0.116585</td>\n",
       "      <td>0.022086</td>\n",
       "      <td>1</td>\n",
       "      <td>0.208677</td>\n",
       "      <td>0.206199</td>\n",
       "      <td>0.206271</td>\n",
       "      <td>0.201842</td>\n",
       "      <td>0.208971</td>\n",
       "      <td>0.206392</td>\n",
       "      <td>0.002555</td>\n",
       "    </tr>\n",
       "  </tbody>\n",
       "</table>\n",
       "<p>5 rows × 21 columns</p>\n",
       "</div>"
      ],
      "text/plain": [
       "   mean_fit_time  std_fit_time  mean_score_time  std_score_time  \\\n",
       "0       0.022619      0.005599         0.001818        0.001133   \n",
       "1       0.042427      0.005413         0.001009        0.000057   \n",
       "2       0.071007      0.008674         0.001026        0.000116   \n",
       "3       0.071180      0.001705         0.001175        0.000098   \n",
       "4       0.096504      0.019871         0.001246        0.000203   \n",
       "\n",
       "  param_max_depth            params  split0_test_score  split1_test_score  \\\n",
       "0               1  {'max_depth': 1}           0.037408           0.059269   \n",
       "1               2  {'max_depth': 2}           0.067777           0.108785   \n",
       "2               3  {'max_depth': 3}           0.091159           0.134029   \n",
       "3               4  {'max_depth': 4}           0.095534           0.154370   \n",
       "4               5  {'max_depth': 5}           0.110940           0.144012   \n",
       "\n",
       "   split2_test_score  split3_test_score  ...  mean_test_score  std_test_score  \\\n",
       "0           0.022200           0.041881  ...         0.041435        0.012077   \n",
       "1           0.055390           0.052709  ...         0.073139        0.020465   \n",
       "2           0.097577           0.056400  ...         0.099837        0.026622   \n",
       "3           0.107212           0.067739  ...         0.113711        0.031745   \n",
       "4           0.087920           0.099910  ...         0.116585        0.022086   \n",
       "\n",
       "   rank_test_score  split0_train_score  split1_train_score  \\\n",
       "0                7            0.048678            0.042985   \n",
       "1                6            0.082155            0.083899   \n",
       "2                4            0.122633            0.120839   \n",
       "3                2            0.162374            0.164971   \n",
       "4                1            0.208677            0.206199   \n",
       "\n",
       "   split2_train_score  split3_train_score  split4_train_score  \\\n",
       "0            0.052221            0.047135            0.046596   \n",
       "1            0.087353            0.082700            0.090348   \n",
       "2            0.131610            0.114817            0.123688   \n",
       "3            0.164933            0.160026            0.164627   \n",
       "4            0.206271            0.201842            0.208971   \n",
       "\n",
       "   mean_train_score  std_train_score  \n",
       "0          0.047523         0.003000  \n",
       "1          0.085291         0.003108  \n",
       "2          0.122717         0.005403  \n",
       "3          0.163386         0.001937  \n",
       "4          0.206392         0.002555  \n",
       "\n",
       "[5 rows x 21 columns]"
      ]
     },
     "execution_count": 13,
     "metadata": {},
     "output_type": "execute_result"
    }
   ],
   "source": [
    "import pandas as pd\n",
    "\n",
    "cv_results = pd.DataFrame(grid.cv_results_)\n",
    "cv_results.head()"
   ]
  },
  {
   "cell_type": "code",
   "execution_count": 14,
   "metadata": {},
   "outputs": [
    {
     "data": {
      "text/html": [
       "<div>\n",
       "<style scoped>\n",
       "    .dataframe tbody tr th:only-of-type {\n",
       "        vertical-align: middle;\n",
       "    }\n",
       "\n",
       "    .dataframe tbody tr th {\n",
       "        vertical-align: top;\n",
       "    }\n",
       "\n",
       "    .dataframe thead th {\n",
       "        text-align: right;\n",
       "    }\n",
       "</style>\n",
       "<table border=\"1\" class=\"dataframe\">\n",
       "  <thead>\n",
       "    <tr style=\"text-align: right;\">\n",
       "      <th></th>\n",
       "      <th>param_max_depth</th>\n",
       "      <th>mean_test_score</th>\n",
       "    </tr>\n",
       "  </thead>\n",
       "  <tbody>\n",
       "    <tr>\n",
       "      <th>4</th>\n",
       "      <td>5</td>\n",
       "      <td>0.116585</td>\n",
       "    </tr>\n",
       "    <tr>\n",
       "      <th>3</th>\n",
       "      <td>4</td>\n",
       "      <td>0.113711</td>\n",
       "    </tr>\n",
       "    <tr>\n",
       "      <th>5</th>\n",
       "      <td>6</td>\n",
       "      <td>0.108417</td>\n",
       "    </tr>\n",
       "    <tr>\n",
       "      <th>2</th>\n",
       "      <td>3</td>\n",
       "      <td>0.099837</td>\n",
       "    </tr>\n",
       "    <tr>\n",
       "      <th>6</th>\n",
       "      <td>7</td>\n",
       "      <td>0.084579</td>\n",
       "    </tr>\n",
       "  </tbody>\n",
       "</table>\n",
       "</div>"
      ],
      "text/plain": [
       "  param_max_depth  mean_test_score\n",
       "4               5         0.116585\n",
       "3               4         0.113711\n",
       "5               6         0.108417\n",
       "2               3         0.099837\n",
       "6               7         0.084579"
      ]
     },
     "execution_count": 14,
     "metadata": {},
     "output_type": "execute_result"
    }
   ],
   "source": [
    "cv_results_tiny = cv_results[['param_max_depth', 'mean_test_score']]\n",
    "cv_results_tiny.sort_values(by='mean_test_score', ascending=False).head()"
   ]
  },
  {
   "cell_type": "markdown",
   "metadata": {},
   "source": [
    "There is a problem with using this score for evaluation, however. You might be making what is called a **multiple hypothesis testing error**. If you try very many parameter settings, some of them will work better just by chance, and the score that you obtained might not reflect how your model would perform on new unseen data.\n",
    "Therefore, it is good to split off a separate test-set before performing grid-search. This pattern can be seen as a training-validation-test split, and is common in machine learning:"
   ]
  },
  {
   "cell_type": "markdown",
   "metadata": {},
   "source": [
    "<img src=\"figures/grid_search_cross_validation.svg\" width=\"70%\">"
   ]
  },
  {
   "cell_type": "markdown",
   "metadata": {},
   "source": [
    "We can do this very easily by splitting of some test data using ``train_test_split``, training ``GridSearchCV`` on the training set, and applying the ``score`` method to the test set:"
   ]
  },
  {
   "cell_type": "code",
   "execution_count": 15,
   "metadata": {},
   "outputs": [
    {
     "data": {
      "text/plain": [
       "0.11664703063072346"
      ]
     },
     "execution_count": 15,
     "metadata": {},
     "output_type": "execute_result"
    }
   ],
   "source": [
    "from sklearn.model_selection import train_test_split\n",
    "X_train, X_test, y_train, y_test = train_test_split(X, y, random_state=1)\n",
    "\n",
    "param_grid = {'max_depth': max_depth}\n",
    "cv = KFold(n_splits=10, shuffle=True)\n",
    "\n",
    "grid = GridSearchCV(DecisionTreeRegressor(), param_grid=param_grid, cv=cv)\n",
    "\n",
    "grid.fit(X_train, y_train)\n",
    "grid.score(X_test, y_test)"
   ]
  },
  {
   "cell_type": "markdown",
   "metadata": {},
   "source": [
    "We can also look at the parameters that were selected:"
   ]
  },
  {
   "cell_type": "code",
   "execution_count": 16,
   "metadata": {},
   "outputs": [
    {
     "data": {
      "text/plain": [
       "{'max_depth': 5}"
      ]
     },
     "execution_count": 16,
     "metadata": {},
     "output_type": "execute_result"
    }
   ],
   "source": [
    "grid.best_params_"
   ]
  },
  {
   "cell_type": "markdown",
   "metadata": {},
   "source": [
    "Some practitioners go for an easier scheme, splitting the data simply into three parts, training, validation and testing. This is a possible alternative if your training set is very large, or it is infeasible to train many models using cross-validation because training a model takes very long.\n",
    "You can do this with scikit-learn for example by splitting of a test-set and then applying GridSearchCV with ShuffleSplit cross-validation with a single iteration:\n",
    "\n",
    "<img src=\"figures/train_validation_test2.svg\" width=\"60%\">"
   ]
  },
  {
   "cell_type": "code",
   "execution_count": 17,
   "metadata": {
    "scrolled": true
   },
   "outputs": [
    {
     "name": "stdout",
     "output_type": "stream",
     "text": [
      "Fitting 1 folds for each of 7 candidates, totalling 7 fits\n",
      "[CV 1/1] END .......................max_depth=1;, score=0.039 total time=   0.0s\n",
      "[CV 1/1] END .......................max_depth=2;, score=0.091 total time=   0.0s\n",
      "[CV 1/1] END .......................max_depth=3;, score=0.114 total time=   0.0s\n",
      "[CV 1/1] END .......................max_depth=4;, score=0.150 total time=   0.0s\n",
      "[CV 1/1] END .......................max_depth=5;, score=0.133 total time=   0.0s\n",
      "[CV 1/1] END .......................max_depth=6;, score=0.104 total time=   0.0s\n",
      "[CV 1/1] END .......................max_depth=7;, score=0.045 total time=   0.1s\n"
     ]
    },
    {
     "data": {
      "text/plain": [
       "0.11152232083900504"
      ]
     },
     "execution_count": 17,
     "metadata": {},
     "output_type": "execute_result"
    }
   ],
   "source": [
    "from sklearn.model_selection import train_test_split, ShuffleSplit\n",
    "\n",
    "X_train, X_test, y_train, y_test = train_test_split(X, y, random_state=1)\n",
    "\n",
    "param_grid = {'max_depth': max_depth}\n",
    "single_split_cv = ShuffleSplit(n_splits=1, test_size=0.2)\n",
    "\n",
    "grid = GridSearchCV(DecisionTreeRegressor(), param_grid=param_grid, cv=single_split_cv, verbose=3)\n",
    "\n",
    "grid.fit(X_train, y_train)\n",
    "grid.score(X_test, y_test)"
   ]
  },
  {
   "cell_type": "markdown",
   "metadata": {},
   "source": [
    "This is much faster, but it might result in worse hyperparameters and therefore worse results as the error estimate on left-out data will have much more variance. In other words you're more likely to be unlucky!"
   ]
  },
  {
   "cell_type": "markdown",
   "metadata": {},
   "source": [
    "<div class=\"alert alert-success\">\n",
    "    <b>EXERCISE</b>:\n",
    "     <ul>\n",
    "      <li>\n",
    "      Apply grid-search to find the best learning_rate and number of tree in a HistGradientBoostingRegressor.\n",
    "      </li>\n",
    "    </ul>\n",
    "</div>\n",
    "\n",
    "Solution is in: `solutions/03-gbdt_grid_search_cv.py`"
   ]
  },
  {
   "cell_type": "code",
   "execution_count": 25,
   "metadata": {},
   "outputs": [
    {
     "name": "stdout",
     "output_type": "stream",
     "text": [
      "0.214357178384883\n"
     ]
    }
   ],
   "source": [
    "from sklearn.ensemble import HistGradientBoostingRegressor\n",
    "\n",
    "param_grid = {\n",
    "    'learning_rate': [0.01, 0.025, 0.05, 0.075, 0.1, 0.5], \n",
    "    'max_iter': [10, 50, 100, 200, 500, 1000],\n",
    "    'max_depth': [1, 3, 5]\n",
    "}\n",
    "\n",
    "grid = GridSearchCV(HistGradientBoostingRegressor(random_state=42), param_grid=param_grid, cv=3)\n",
    "\n",
    "grid.fit(X_train, y_train)\n",
    "print(grid.score(X_test, y_test))"
   ]
  },
  {
   "cell_type": "code",
   "execution_count": 28,
   "metadata": {},
   "outputs": [
    {
     "data": {
      "text/html": [
       "<div>\n",
       "<style scoped>\n",
       "    .dataframe tbody tr th:only-of-type {\n",
       "        vertical-align: middle;\n",
       "    }\n",
       "\n",
       "    .dataframe tbody tr th {\n",
       "        vertical-align: top;\n",
       "    }\n",
       "\n",
       "    .dataframe thead th {\n",
       "        text-align: right;\n",
       "    }\n",
       "</style>\n",
       "<table border=\"1\" class=\"dataframe\">\n",
       "  <thead>\n",
       "    <tr style=\"text-align: right;\">\n",
       "      <th></th>\n",
       "      <th>param_learning_rate</th>\n",
       "      <th>param_max_iter</th>\n",
       "      <th>param_max_depth</th>\n",
       "      <th>mean_test_score</th>\n",
       "    </tr>\n",
       "  </thead>\n",
       "  <tbody>\n",
       "    <tr>\n",
       "      <th>33</th>\n",
       "      <td>0.025</td>\n",
       "      <td>200</td>\n",
       "      <td>5</td>\n",
       "      <td>0.223539</td>\n",
       "    </tr>\n",
       "    <tr>\n",
       "      <th>16</th>\n",
       "      <td>0.01</td>\n",
       "      <td>500</td>\n",
       "      <td>5</td>\n",
       "      <td>0.222076</td>\n",
       "    </tr>\n",
       "    <tr>\n",
       "      <th>67</th>\n",
       "      <td>0.075</td>\n",
       "      <td>50</td>\n",
       "      <td>5</td>\n",
       "      <td>0.221378</td>\n",
       "    </tr>\n",
       "    <tr>\n",
       "      <th>11</th>\n",
       "      <td>0.01</td>\n",
       "      <td>1000</td>\n",
       "      <td>3</td>\n",
       "      <td>0.219859</td>\n",
       "    </tr>\n",
       "    <tr>\n",
       "      <th>45</th>\n",
       "      <td>0.05</td>\n",
       "      <td>200</td>\n",
       "      <td>3</td>\n",
       "      <td>0.219305</td>\n",
       "    </tr>\n",
       "    <tr>\n",
       "      <th>...</th>\n",
       "      <td>...</td>\n",
       "      <td>...</td>\n",
       "      <td>...</td>\n",
       "      <td>...</td>\n",
       "    </tr>\n",
       "    <tr>\n",
       "      <th>100</th>\n",
       "      <td>0.5</td>\n",
       "      <td>500</td>\n",
       "      <td>3</td>\n",
       "      <td>-0.022859</td>\n",
       "    </tr>\n",
       "    <tr>\n",
       "      <th>105</th>\n",
       "      <td>0.5</td>\n",
       "      <td>200</td>\n",
       "      <td>5</td>\n",
       "      <td>-0.028096</td>\n",
       "    </tr>\n",
       "    <tr>\n",
       "      <th>106</th>\n",
       "      <td>0.5</td>\n",
       "      <td>500</td>\n",
       "      <td>5</td>\n",
       "      <td>-0.032257</td>\n",
       "    </tr>\n",
       "    <tr>\n",
       "      <th>107</th>\n",
       "      <td>0.5</td>\n",
       "      <td>1000</td>\n",
       "      <td>5</td>\n",
       "      <td>-0.032379</td>\n",
       "    </tr>\n",
       "    <tr>\n",
       "      <th>101</th>\n",
       "      <td>0.5</td>\n",
       "      <td>1000</td>\n",
       "      <td>3</td>\n",
       "      <td>-0.051801</td>\n",
       "    </tr>\n",
       "  </tbody>\n",
       "</table>\n",
       "<p>108 rows × 4 columns</p>\n",
       "</div>"
      ],
      "text/plain": [
       "    param_learning_rate param_max_iter param_max_depth  mean_test_score\n",
       "33                0.025            200               5         0.223539\n",
       "16                 0.01            500               5         0.222076\n",
       "67                0.075             50               5         0.221378\n",
       "11                 0.01           1000               3         0.219859\n",
       "45                 0.05            200               3         0.219305\n",
       "..                  ...            ...             ...              ...\n",
       "100                 0.5            500               3        -0.022859\n",
       "105                 0.5            200               5        -0.028096\n",
       "106                 0.5            500               5        -0.032257\n",
       "107                 0.5           1000               5        -0.032379\n",
       "101                 0.5           1000               3        -0.051801\n",
       "\n",
       "[108 rows x 4 columns]"
      ]
     },
     "execution_count": 28,
     "metadata": {},
     "output_type": "execute_result"
    }
   ],
   "source": [
    "pd.DataFrame(grid.cv_results_)[\n",
    "    ['param_learning_rate', 'param_max_iter', 'param_max_depth', 'mean_test_score']\n",
    "].sort_values(by='mean_test_score', ascending=False)\n"
   ]
  },
  {
   "cell_type": "markdown",
   "metadata": {},
   "source": [
    "## Guided hyper-optimization"
   ]
  },
  {
   "cell_type": "markdown",
   "metadata": {},
   "source": [
    "Hyper-optimization of parameters was done up to now by giving some values to be tried. Usually, we could automatically generated those values (randomly or not) by using `RandomSearchCV` or `GridSearchCV`.\n",
    "\n",
    "We could do a little be better by trying some parameters which we could consider more probable to optimize our problem depending on the previous parameters which we used before.\n",
    "\n",
    "We will use `optuna` to do so.\n",
    "\n",
    "\n",
    "URL : https://pypi.org/project/optuna/\n",
    "\n",
    "See video : https://www.youtube.com/watch?v=J_aymk4YXhg"
   ]
  },
  {
   "cell_type": "code",
   "execution_count": 30,
   "metadata": {},
   "outputs": [
    {
     "name": "stderr",
     "output_type": "stream",
     "text": [
      "\u001b[32m[I 2022-07-08 11:37:49,883]\u001b[0m A new study created in memory with name: no-name-d7801e3e-3dec-4f3c-a169-27d61554b843\u001b[0m\n"
     ]
    },
    {
     "name": "stdout",
     "output_type": "stream",
     "text": [
      "{'max_depth': 15, 'learning_rate': 0.012269726788500331, 'l2_regularization': 0.003678673237063637, 'min_samples_leaf': 66, 'max_iter': 605}\n",
      "0.23199190890180307\n"
     ]
    }
   ],
   "source": [
    "import optuna\n",
    "from optuna import samplers\n",
    "\n",
    "\n",
    "def objective(trial):\n",
    "    max_depth = trial.suggest_int('max_depth', 2, 32)\n",
    "    learning_rate = trial.suggest_loguniform('learning_rate', 10**-5, 10**0)\n",
    "    l2_regularization = trial.suggest_loguniform('l2_regularization', 10**-5, 10**0)\n",
    "    min_samples_leaf = trial.suggest_int('min_samples_leaf', 1, 100)\n",
    "    max_iter = trial.suggest_int('max_iter', 10, 1000)\n",
    "\n",
    "    reg = HistGradientBoostingRegressor(\n",
    "        **trial.params, random_state=42,\n",
    "    )\n",
    "\n",
    "    return np.mean(cross_val_score(reg, X_train, y_train, cv=5, n_jobs=-1, scoring=\"r2\"))\n",
    "\n",
    "sampler = samplers.TPESampler(seed=10)\n",
    "study = optuna.create_study(sampler=sampler, direction='maximize')\n",
    "optuna.logging.disable_default_handler()  # limit verbosity\n",
    "study.optimize(objective, n_trials=10)\n",
    "\n",
    "# Show best result\n",
    "print(study.best_trial.params)\n",
    "print(study.best_trial.value)"
   ]
  },
  {
   "cell_type": "code",
   "execution_count": 31,
   "metadata": {},
   "outputs": [
    {
     "data": {
      "text/plain": [
       "[<matplotlib.lines.Line2D at 0x7ff5f58cddf0>]"
      ]
     },
     "execution_count": 31,
     "metadata": {},
     "output_type": "execute_result"
    },
    {
     "data": {
      "image/png": "[encoded data removed]",
      "text/plain": [
       "<Figure size 432x288 with 1 Axes>"
      ]
     },
     "metadata": {
      "needs_background": "light"
     },
     "output_type": "display_data"
    }
   ],
   "source": [
    "values = [t.value for t in study.trials]\n",
    "plt.plot(values)"
   ]
  },
  {
   "cell_type": "code",
   "execution_count": 32,
   "metadata": {},
   "outputs": [
    {
     "data": {
      "text/plain": [
       "Text(0, 0.5, 'R2')"
      ]
     },
     "execution_count": 32,
     "metadata": {},
     "output_type": "execute_result"
    },
    {
     "data": {
      "image/png": "[encoded data removed]",
      "text/plain": [
       "<Figure size 432x288 with 1 Axes>"
      ]
     },
     "metadata": {
      "needs_background": "light"
     },
     "output_type": "display_data"
    }
   ],
   "source": [
    "values = [t.value for t in study.trials]\n",
    "values = [np.max(values[:k]) for k in range(1, len(values))]\n",
    "plt.plot(values)\n",
    "plt.xlabel('Trials')\n",
    "plt.ylabel('R2')"
   ]
  },
  {
   "cell_type": "code",
   "execution_count": 33,
   "metadata": {},
   "outputs": [
    {
     "data": {
      "text/plain": [
       "0.22208064659588678"
      ]
     },
     "execution_count": 33,
     "metadata": {},
     "output_type": "execute_result"
    }
   ],
   "source": [
    "reg = HistGradientBoostingRegressor(random_state=42)\n",
    "reg.set_params(**study.best_trial.params)\n",
    "reg.fit(X_train, y_train)\n",
    "reg.score(X_test, y_test)"
   ]
  },
  {
   "cell_type": "markdown",
   "metadata": {},
   "source": [
    "<div class=\"alert alert-success\">\n",
    "    <b>EXERCISE</b>:\n",
    "     <ul>\n",
    "      <li>\n",
    "      How would you avoid optimizing the <code>max_iter</code> parameter?\n",
    "      </li>\n",
    "    </ul>\n",
    "</div>\n",
    "\n",
    "Solution is in `solutions/03-gbdt_optuna.py`"
   ]
  },
  {
   "cell_type": "code",
   "execution_count": 35,
   "metadata": {},
   "outputs": [
    {
     "name": "stdout",
     "output_type": "stream",
     "text": [
      "{'max_depth': 22, 'learning_rate': 0.010120332166548559, 'l2_regularization': 0.10619791350957802, 'min_samples_leaf': 53}\n",
      "0.22721810043694335\n"
     ]
    },
    {
     "data": {
      "text/plain": [
       "0.16975012828241764"
      ]
     },
     "execution_count": 35,
     "metadata": {},
     "output_type": "execute_result"
    },
    {
     "data": {
      "image/png": "[encoded data removed]",
      "text/plain": [
       "<Figure size 432x288 with 1 Axes>"
      ]
     },
     "metadata": {
      "needs_background": "light"
     },
     "output_type": "display_data"
    }
   ],
   "source": [
    "# %load solutions/03-gbdt_optuna.py\n",
    "\n",
    "import optuna\n",
    "from optuna import samplers\n",
    "\n",
    "\n",
    "def objective(trial):\n",
    "    max_depth = trial.suggest_int('max_depth', 2, 32)\n",
    "    learning_rate = trial.suggest_loguniform('learning_rate', 10**-5, 10**0)\n",
    "    l2_regularization = trial.suggest_loguniform('l2_regularization', 10**-5, 10**0)\n",
    "    min_samples_leaf = trial.suggest_int('min_samples_leaf', 1, 100)\n",
    "\n",
    "    reg = HistGradientBoostingRegressor(\n",
    "        **trial.params, random_state=42, max_iter=1000,\n",
    "    )\n",
    "\n",
    "    return np.mean(cross_val_score(reg, X_train, y_train, cv=5, n_jobs=-1, scoring=\"r2\"))\n",
    "\n",
    "sampler = samplers.TPESampler(seed=10)\n",
    "study = optuna.create_study(sampler=sampler, direction='maximize')\n",
    "optuna.logging.disable_default_handler()  # limit verbosity\n",
    "study.optimize(objective, n_trials=10)\n",
    "\n",
    "print(study.best_trial.params)\n",
    "print(study.best_trial.value)\n",
    "\n",
    "values = [t.value for t in study.trials]\n",
    "values = [np.max(values[:k]) for k in range(1, len(values))]\n",
    "plt.plot(values)\n",
    "plt.xlabel('Trials')\n",
    "plt.ylabel('R2')\n",
    "\n",
    "reg = HistGradientBoostingRegressor(random_state=42)\n",
    "reg.set_params(**study.best_trial.params)\n",
    "reg.fit(X_train, y_train)\n",
    "reg.score(X_test, y_test)\n"
   ]
  },
  {
   "cell_type": "markdown",
   "metadata": {},
   "source": [
    "To learn more please have a look at the doc of optuna. In particular:\n",
    "\n",
    "https://optuna.readthedocs.io/en/stable/reference/generated/optuna.study.Study.html#optuna.study.Study.optimize"
   ]
  }
 ],
 "metadata": {
  "anaconda-cloud": {},
  "kernelspec": {
   "display_name": "Python 3.9.12 ('generic-ds')",
   "language": "python",
   "name": "python3"
  },
  "language_info": {
   "codemirror_mode": {
    "name": "ipython",
    "version": 3
   },
   "file_extension": ".py",
   "mimetype": "text/x-python",
   "name": "python",
   "nbconvert_exporter": "python",
   "pygments_lexer": "ipython3",
   "version": "3.9.12"
  },
  "vscode": {
   "interpreter": {
    "hash": "647f924417267d90f3da3ee671ffcb129c0bb46d67263b32e0c520f6cb690629"
   }
  }
 },
 "nbformat": 4,
 "nbformat_minor": 4
}
