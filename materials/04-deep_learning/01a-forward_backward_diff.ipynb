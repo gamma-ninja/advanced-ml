{
 "cells": [
  {
   "cell_type": "markdown",
   "metadata": {},
   "source": [
    "# Differentiation case study\n",
    "\n",
    "    Thomas Moreau <thomas.moreau@inria.fr>\n",
    "    Alexandre Gramfort <alexandre.gramfort@inria.fr>\n",
    "\n",
    "We will showcase the 2 modes of automatic differentiation on a simple function\n",
    "\n",
    "$\n",
    "\\begin{cases}\n",
    "    f_0(x) = x\\\\\n",
    "    f_{k+1}(x) = 4 f_k(x) ( 1 - f_k(x))\n",
    "\\end{cases}\n",
    "$\n",
    "\n",
    "Here is a simple implementation:"
   ]
  },
  {
   "cell_type": "code",
   "execution_count": 1,
   "metadata": {},
   "outputs": [
    {
     "data": {
      "text/plain": [
       "0.75"
      ]
     },
     "execution_count": 1,
     "metadata": {},
     "output_type": "execute_result"
    }
   ],
   "source": [
    "def f(x, n=4):\n",
    "    v = x\n",
    "    for _ in range(n):\n",
    "        v = 4 * v * (1 - v)\n",
    "    return v\n",
    "\n",
    "f(0.25)"
   ]
  },
  {
   "cell_type": "markdown",
   "metadata": {},
   "source": [
    "## Numerical differentiation"
   ]
  },
  {
   "cell_type": "code",
   "execution_count": 2,
   "metadata": {},
   "outputs": [
    {
     "data": {
      "text/plain": [
       "array([-16.00001599])"
      ]
     },
     "execution_count": 2,
     "metadata": {},
     "output_type": "execute_result"
    }
   ],
   "source": [
    "from scipy.optimize import approx_fprime\n",
    "approx_fprime(0.25, f, 1e-7)"
   ]
  },
  {
   "cell_type": "markdown",
   "metadata": {},
   "source": [
    "## Forward differentiation\n",
    "\n",
    "The idea is to use this formula:\n",
    "\n",
    "$$\n",
    "\\frac{\\partial f_{k+1}}{\\partial x}(x)\n",
    "= \\frac{\\partial f_{k+1}}{\\partial f_{k}}(f_{k}) \\frac{\\partial f_{k}}{\\partial x} (x)\n",
    "= \\frac{\\partial f_{k+1}}{\\partial f_{k}}(f_{k})\n",
    "    \\left[\n",
    "    \\frac{\\partial f_{k}}{\\partial f_{k-1}}(f_{k-1})\n",
    "    \\dots\n",
    "    \\frac{\\partial f_{1}}{\\partial x}(x)\n",
    "    \\right]\n",
    "$$"
   ]
  },
  {
   "cell_type": "code",
   "execution_count": 3,
   "metadata": {},
   "outputs": [
    {
     "data": {
      "text/plain": [
       "-16.0"
      ]
     },
     "execution_count": 3,
     "metadata": {},
     "output_type": "execute_result"
    }
   ],
   "source": [
    "def g(x, n=4):\n",
    "    v, dv = x, 1.\n",
    "    for i in range(n):\n",
    "        dv = (4  - 8 * v) * dv\n",
    "        v = 4 * v * (1 - v)\n",
    "    return dv\n",
    "\n",
    "g(0.25)"
   ]
  },
  {
   "cell_type": "markdown",
   "metadata": {},
   "source": [
    "## Backward differentiation\n",
    "\n",
    "The idea is to use this formula:\n",
    "\n",
    "$$\n",
    "\\frac{\\partial f_{k+1}}{\\partial x}(x)\n",
    "= \\frac{\\partial f_{k+1}}{\\partial f_{1}}(f_1) \\frac{\\partial f_{1}}{\\partial x} (x)\n",
    "= \n",
    "    \\left[\n",
    "    \\frac{\\partial f_{k+1}}{\\partial f_{k}}(f_{k})\n",
    "    \\dots\n",
    "    \\frac{\\partial f_{k}}{\\partial f_{1}}(f_{1})\n",
    "    \\right]\n",
    "    \\frac{\\partial f_{1}}{\\partial x}(x)\n",
    "$$"
   ]
  },
  {
   "cell_type": "code",
   "execution_count": 4,
   "metadata": {},
   "outputs": [
    {
     "data": {
      "text/plain": [
       "-16.0"
      ]
     },
     "execution_count": 4,
     "metadata": {},
     "output_type": "execute_result"
    }
   ],
   "source": [
    "def g(x, n=4):\n",
    "    v = x\n",
    "    memory = []\n",
    "    for i in range(n):\n",
    "        memory.append(v)\n",
    "        v = 4 * v * (1 - v)\n",
    "    dv = 1\n",
    "    for v in memory[::-1]:\n",
    "        dv = dv * (4  - 8 * v)\n",
    "    return dv\n",
    "\n",
    "g(0.25)"
   ]
  },
  {
   "cell_type": "markdown",
   "metadata": {},
   "source": [
    "<div class=\"alert alert-success\">\n",
    "\n",
    "**Exercice:**\n",
    "\n",
    "- Code the forward and backward propagation for the following function defined for $x\\in]0, 1[$:\n",
    "\n",
    "$\n",
    "\\qquad\n",
    "\\begin{cases}\n",
    "f_0(x) = x\\\\\n",
    "f_{n+1}(x) = 1 + \\frac{2}{f_{n}(x)}\n",
    "\\end{cases}\n",
    "$\n",
    "    \n",
    "_For any $x > 0$, the limit of this series gives $2$ so the derivative will be 0 for $n$ large enough_\n",
    "</div>\n",
    "\n",
    "**Note:** the derivative of $g(x) = 1 + \\frac{2}{x}$ is $g'(x) = \\frac{-2}{x^2}$."
   ]
  },
  {
   "cell_type": "code",
   "execution_count": 5,
   "metadata": {},
   "outputs": [
    {
     "data": {
      "text/plain": [
       "2.0"
      ]
     },
     "execution_count": 5,
     "metadata": {},
     "output_type": "execute_result"
    }
   ],
   "source": [
    "# Definition of the function.\n",
    "def f(x, n=4):\n",
    "    v = x\n",
    "    for _ in range(n):\n",
    "        v = 1 + 2 / v\n",
    "\n",
    "    return v\n",
    "\n",
    "x = 2\n",
    "f(x)"
   ]
  },
  {
   "cell_type": "markdown",
   "metadata": {},
   "source": [
    "Solution in `solutions/01a_forward_diff.py`"
   ]
  },
  {
   "cell_type": "code",
   "execution_count": 7,
   "metadata": {},
   "outputs": [
    {
     "data": {
      "text/plain": [
       "(0.0625, 0.06250022204458655)"
      ]
     },
     "execution_count": 7,
     "metadata": {},
     "output_type": "execute_result"
    }
   ],
   "source": [
    "# Gradient of the function f computed with forward diff\n",
    "def g_forward(x, n=4):\n",
    "    v, dv = x, 1\n",
    "    for _ in range(n):\n",
    "        dv =  -2 * dv / v ** 2\n",
    "        v = 1 + 2 / v\n",
    "\n",
    "    return dv\n",
    "\n",
    "x = 2\n",
    "g_forward(x), approx_fprime(x, f, 1e-9)[0]\n"
   ]
  },
  {
   "cell_type": "code",
   "execution_count": 8,
   "metadata": {},
   "outputs": [
    {
     "name": "stdout",
     "output_type": "stream",
     "text": [
      "Good job for the forward diff!\n"
     ]
    }
   ],
   "source": [
    "# Check solution forward diff\n",
    "import numpy as np\n",
    "\n",
    "diff = np.array([\n",
    "    abs(g_forward(x) - approx_fprime(x, f, 1e-9)[0])\n",
    "    for x in np.logspace(-4, 0, 21, base=2)\n",
    "])\n",
    "mask = diff < 1e-6\n",
    "assert mask.all(), diff[~mask]\n",
    "print(\"Good job for the forward diff!\")"
   ]
  },
  {
   "cell_type": "markdown",
   "metadata": {},
   "source": [
    "Solution in `solutions/01a_backward_diff.py`."
   ]
  },
  {
   "cell_type": "code",
   "execution_count": null,
   "metadata": {},
   "outputs": [],
   "source": [
    "def g_backward(x, n=4):\n",
    "    ##############\n",
    "    # TODO\n",
    "\n",
    "    # END TODO\n",
    "    ############\n",
    "    return dv\n",
    "\n",
    "x = 2\n",
    "g_backward(x), approx_fprime(x, f, 1e-9)[0]"
   ]
  },
  {
   "cell_type": "code",
   "execution_count": null,
   "metadata": {},
   "outputs": [],
   "source": [
    "# Check solution forward diff\n",
    "import numpy as np\n",
    "\n",
    "diff = np.array([\n",
    "    abs(g_backward(x) - approx_fprime(x, f, 1e-9)[0])\n",
    "    for x in np.logspace(-4, 0, 21, base=2)\n",
    "])\n",
    "mask = diff < 1e-6\n",
    "assert mask.all(), diff[~mask]\n",
    "print(\"Good job for the backward diff!\")"
   ]
  },
  {
   "cell_type": "markdown",
   "metadata": {},
   "source": [
    "### Bonus - network with residual structure\n",
    "\n",
    "_This question is a bit more complex as there is a residual structure._\n",
    "\n",
    "<div class=\"alert alert-success\">\n",
    "\n",
    "**Exercice:**\n",
    "\n",
    "- Code the forward and backward propagation for the following function defined for $x\\in]0, 1[$:\n",
    "\n",
    "$\n",
    "\\qquad\n",
    "\\begin{cases}\n",
    "f_0(x) = 1\\\\\n",
    "f_{n+1}(x) = (1- x) * f_{n}(x) + 1\n",
    "\\end{cases}\n",
    "$\n",
    "    \n",
    "_This corresponds to the power series of $\\frac{1}{x}$ so one can check that the gradient should converge to $\\frac{-1}{x^2}$._\n",
    "</div>\n",
    "\n",
    "_**Hint:** For the backward diff, the residual structure requires an accumulation! Compute separatly $\\frac{\\partial f_{n}}{\\partial f_k}$ and $\\Big(\\frac{d f_{n}}{d x}\\Big)_k = \\sum_{i=k}^n\\frac{\\partial f_{n}}{\\partial f_k}\\frac{\\partial f_k(x)}{\\partial x}$. This second term corresponds to the gradient of $f_n(x)$ if $f_{k-1}(x)$ is considered as a constant relative to $x$._"
   ]
  },
  {
   "cell_type": "code",
   "execution_count": null,
   "metadata": {},
   "outputs": [],
   "source": [
    "# Definition of the function.\n",
    "def f(x, n=1000):\n",
    "    v = 1\n",
    "    for _ in range(n):\n",
    "        v = (1 - x) * v + 1\n",
    "\n",
    "    return v\n",
    "\n",
    "x = .5\n",
    "f(x), 1/x"
   ]
  },
  {
   "cell_type": "markdown",
   "metadata": {},
   "source": [
    "Solution in `solutions/01a_bonus_forward_diff.py`"
   ]
  },
  {
   "cell_type": "code",
   "execution_count": null,
   "metadata": {},
   "outputs": [],
   "source": [
    "# Gradient of the function f computed with forward diff\n",
    "def g_forward(x, n=1000):\n",
    "    ##############\n",
    "    # TODO\n",
    "\n",
    "    # END TODO\n",
    "    ############\n",
    "    return dv\n",
    "\n",
    "\n",
    "x = .5\n",
    "g_forward(x), -1 / x**2\n"
   ]
  },
  {
   "cell_type": "code",
   "execution_count": null,
   "metadata": {},
   "outputs": [],
   "source": [
    "# Check solution forward diff\n",
    "import numpy as np\n",
    "\n",
    "diff = np.array([\n",
    "    abs(g_forward(x) - (-1/x**2))\n",
    "    for x in np.logspace(-4, 0, 21, base=2)\n",
    "])\n",
    "mask = diff >= 1e-10\n",
    "assert not mask.any(), diff[mask]\n",
    "print(\"Good job for the forward diff!\")"
   ]
  },
  {
   "cell_type": "markdown",
   "metadata": {},
   "source": [
    "Solution in `solutions/01a_bonus_backward_diff.py`."
   ]
  },
  {
   "cell_type": "code",
   "execution_count": null,
   "metadata": {},
   "outputs": [],
   "source": [
    "def g_backward(x, n=1000):\n",
    "    ##############\n",
    "    # TODO\n",
    "\n",
    "    # END TODO\n",
    "    ############\n",
    "    return dv\n",
    "\n",
    "x = .5\n",
    "g_backward(x), -1 / x**2"
   ]
  },
  {
   "cell_type": "code",
   "execution_count": null,
   "metadata": {},
   "outputs": [],
   "source": [
    "# Check solution backward diff\n",
    "diff = np.array([\n",
    "    abs(g_backward(x) -(-1/x**2))\n",
    "    for x in np.logspace(-4, 0, 21, base=2)\n",
    "])\n",
    "mask = diff >= 1e-10\n",
    "assert not mask.any(), diff[mask]\n",
    "print(\"Good job for the backward diff!\")"
   ]
  }
 ],
 "metadata": {
  "kernelspec": {
   "display_name": "Python 3.9.12 ('generic-ds')",
   "language": "python",
   "name": "python3"
  },
  "language_info": {
   "codemirror_mode": {
    "name": "ipython",
    "version": 3
   },
   "file_extension": ".py",
   "mimetype": "text/x-python",
   "name": "python",
   "nbconvert_exporter": "python",
   "pygments_lexer": "ipython3",
   "version": "3.9.12"
  },
  "vscode": {
   "interpreter": {
    "hash": "647f924417267d90f3da3ee671ffcb129c0bb46d67263b32e0c520f6cb690629"
   }
  }
 },
 "nbformat": 4,
 "nbformat_minor": 4
}
