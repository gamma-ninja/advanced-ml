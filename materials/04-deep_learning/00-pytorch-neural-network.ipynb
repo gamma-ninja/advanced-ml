{
 "cells": [
  {
   "cell_type": "markdown",
   "id": "1625907a-d636-4478-921e-df7596066c13",
   "metadata": {},
   "source": [
    "# PyTorch Neural Network -- fashion MNIST\n",
    "\n",
    "    Thomas Moreau <thomas.moreau@inria.fr>\n",
    "    Alexandre Gramfort <alexandre.gramfort@inria.fr>\n",
    "    \n",
    "Notebook inspired from materials from [PyTorch tutorial](https://pytorch.org/tutorials/beginner/basics/quickstart_tutorial.html).\n",
    "\n",
    "Start by importing helpers from `torch` and `torchvision`:"
   ]
  },
  {
   "cell_type": "code",
   "execution_count": 1,
   "id": "c250b215",
   "metadata": {},
   "outputs": [],
   "source": [
    "import torch\n",
    "from torch import nn\n",
    "from torch.utils.data import DataLoader\n",
    "from torchvision import datasets\n",
    "from torchvision.transforms import ToTensor, Compose, Normalize\n",
    "from torchvision.transforms import RandomHorizontalFlip, RandomCrop"
   ]
  },
  {
   "cell_type": "markdown",
   "id": "20ddf61c-76aa-446d-ac9c-ad89242daa9b",
   "metadata": {},
   "source": [
    "### Load data - Fashion MNIST\n",
    "\n",
    "Fashion MNIST is a dataset with images of clothes from 10 categories:"
   ]
  },
  {
   "cell_type": "code",
   "execution_count": 2,
   "id": "a634f150",
   "metadata": {},
   "outputs": [
    {
     "name": "stdout",
     "output_type": "stream",
     "text": [
      "Downloading http://fashion-mnist.s3-website.eu-central-1.amazonaws.com/train-images-idx3-ubyte.gz\n",
      "Downloading http://fashion-mnist.s3-website.eu-central-1.amazonaws.com/train-images-idx3-ubyte.gz to data/FashionMNIST/raw/train-images-idx3-ubyte.gz\n"
     ]
    },
    {
     "data": {
      "application/vnd.jupyter.widget-view+json": {
       "model_id": "4b1702a683fd4fea83fc2225760f2bf0",
       "version_major": 2,
       "version_minor": 0
      },
      "text/plain": [
       "  0%|          | 0/26421880 [00:00<?, ?it/s]"
      ]
     },
     "metadata": {},
     "output_type": "display_data"
    },
    {
     "name": "stdout",
     "output_type": "stream",
     "text": [
      "Extracting data/FashionMNIST/raw/train-images-idx3-ubyte.gz to data/FashionMNIST/raw\n",
      "\n",
      "Downloading http://fashion-mnist.s3-website.eu-central-1.amazonaws.com/train-labels-idx1-ubyte.gz\n",
      "Downloading http://fashion-mnist.s3-website.eu-central-1.amazonaws.com/train-labels-idx1-ubyte.gz to data/FashionMNIST/raw/train-labels-idx1-ubyte.gz\n"
     ]
    },
    {
     "data": {
      "application/vnd.jupyter.widget-view+json": {
       "model_id": "f8c8c26165fb462ebd9b5a7bc464ff5a",
       "version_major": 2,
       "version_minor": 0
      },
      "text/plain": [
       "  0%|          | 0/29515 [00:00<?, ?it/s]"
      ]
     },
     "metadata": {},
     "output_type": "display_data"
    },
    {
     "name": "stdout",
     "output_type": "stream",
     "text": [
      "Extracting data/FashionMNIST/raw/train-labels-idx1-ubyte.gz to data/FashionMNIST/raw\n",
      "\n",
      "Downloading http://fashion-mnist.s3-website.eu-central-1.amazonaws.com/t10k-images-idx3-ubyte.gz\n",
      "Downloading http://fashion-mnist.s3-website.eu-central-1.amazonaws.com/t10k-images-idx3-ubyte.gz to data/FashionMNIST/raw/t10k-images-idx3-ubyte.gz\n"
     ]
    },
    {
     "data": {
      "application/vnd.jupyter.widget-view+json": {
       "model_id": "63f42158147c4779afc7df4f33717ea6",
       "version_major": 2,
       "version_minor": 0
      },
      "text/plain": [
       "  0%|          | 0/4422102 [00:00<?, ?it/s]"
      ]
     },
     "metadata": {},
     "output_type": "display_data"
    },
    {
     "name": "stdout",
     "output_type": "stream",
     "text": [
      "Extracting data/FashionMNIST/raw/t10k-images-idx3-ubyte.gz to data/FashionMNIST/raw\n",
      "\n",
      "Downloading http://fashion-mnist.s3-website.eu-central-1.amazonaws.com/t10k-labels-idx1-ubyte.gz\n",
      "Downloading http://fashion-mnist.s3-website.eu-central-1.amazonaws.com/t10k-labels-idx1-ubyte.gz to data/FashionMNIST/raw/t10k-labels-idx1-ubyte.gz\n"
     ]
    },
    {
     "data": {
      "application/vnd.jupyter.widget-view+json": {
       "model_id": "14f89a6e8f364f33b4f2d546e70f46d8",
       "version_major": 2,
       "version_minor": 0
      },
      "text/plain": [
       "  0%|          | 0/5148 [00:00<?, ?it/s]"
      ]
     },
     "metadata": {},
     "output_type": "display_data"
    },
    {
     "name": "stdout",
     "output_type": "stream",
     "text": [
      "Extracting data/FashionMNIST/raw/t10k-labels-idx1-ubyte.gz to data/FashionMNIST/raw\n",
      "\n",
      "Classes: ['T-shirt/top', 'Trouser', 'Pullover', 'Dress', 'Coat', 'Sandal', 'Shirt', 'Sneaker', 'Bag', 'Ankle boot']\n",
      "Training samples: 60k\n",
      "Test samples: 10k\n"
     ]
    }
   ],
   "source": [
    "# Download training data from open datasets.\n",
    "training_data = datasets.FashionMNIST(\n",
    "    root=\"data\",     # Where to store the data\n",
    "    train=True,      # Which part of the dataset to load (train set)\n",
    "    download=True,   # Download the data if necessary\n",
    "    # Transform for data augmetation.\n",
    "    transform=Compose([\n",
    "        RandomHorizontalFlip(),\n",
    "        RandomCrop(size=28, padding=4),\n",
    "        ToTensor(),\n",
    "        Normalize([0.2700], [0.3500]),\n",
    "    ]),\n",
    ")\n",
    "\n",
    "# Download test data from open datasets.\n",
    "test_data = datasets.FashionMNIST(\n",
    "    root=\"data\",\n",
    "    train=False, \n",
    "    download=True,\n",
    "    transform=Compose([ToTensor(), Normalize((0.2700,), (0.3500,))])\n",
    ")\n",
    "\n",
    "print(\"Classes:\", training_data.classes)\n",
    "\n",
    "print(f\"Training samples: {len(training_data) / 1000:.0f}k\\n\"\n",
    "      f\"Test samples: {len(test_data) / 1000:.0f}k\")"
   ]
  },
  {
   "cell_type": "code",
   "execution_count": 3,
   "id": "0d667ac9-0a21-4d06-9501-415c9db27e81",
   "metadata": {},
   "outputs": [
    {
     "name": "stdout",
     "output_type": "stream",
     "text": [
      "Type: <class 'tuple'>\n",
      "\n",
      "X shape: torch.Size([1, 28, 28])\n",
      "y: 9\n"
     ]
    }
   ],
   "source": [
    "print(f\"Type: {type(training_data[0])}\\n\")\n",
    "X, y = training_data[0]\n",
    "print(f\"X shape: {X.shape}\\ny: {y}\")"
   ]
  },
  {
   "cell_type": "code",
   "execution_count": 4,
   "id": "e2d399ab",
   "metadata": {},
   "outputs": [
    {
     "data": {
      "image/png": "[encoded data removed]",
      "text/plain": [
       "<Figure size 1080x360 with 10 Axes>"
      ]
     },
     "metadata": {
      "needs_background": "light"
     },
     "output_type": "display_data"
    }
   ],
   "source": [
    "import matplotlib.pyplot as plt\n",
    "\n",
    "fig, axes = plt.subplots(2, 5, figsize=(15, 5))\n",
    "for i, ax in enumerate(axes.flatten()):\n",
    "    ax.imshow(training_data[i][0][0], cmap='gray')"
   ]
  },
  {
   "cell_type": "markdown",
   "id": "3a38923a-3956-46d1-bc27-155110a35db5",
   "metadata": {},
   "source": [
    "### Accessing batch of images -- DataLoader\n",
    "\n",
    "To train the network, we want to use SGD with minibatch of data.\n",
    "A convenient way to iterate through the samples is to use a `DataLoader`:"
   ]
  },
  {
   "cell_type": "code",
   "execution_count": 5,
   "id": "77bccdd1",
   "metadata": {},
   "outputs": [
    {
     "name": "stdout",
     "output_type": "stream",
     "text": [
      "Shape of X [N, C, H, W]: torch.Size([64, 1, 28, 28])\n",
      "Shape of y: torch.Size([64]) torch.int64\n"
     ]
    }
   ],
   "source": [
    "batch_size = 64\n",
    "\n",
    "# Create data loaders.\n",
    "train_dataloader = DataLoader(training_data, batch_size=batch_size)\n",
    "test_dataloader = DataLoader(test_data, batch_size=batch_size)\n",
    "\n",
    "X, y = next(iter(test_dataloader))\n",
    "print(f\"Shape of X [N, C, H, W]: {X.shape}\")\n",
    "print(f\"Shape of y: {y.shape} {y.dtype}\")"
   ]
  },
  {
   "cell_type": "markdown",
   "id": "31c897bb-d7b5-46db-90f7-7aab94dbc7ce",
   "metadata": {},
   "source": [
    "### Creating a Network -- nn.Module\n",
    "\n",
    "Now, we will define a simple feedforward fully connected model:"
   ]
  },
  {
   "cell_type": "code",
   "execution_count": 6,
   "id": "6c47d723-cffc-4c77-be21-0253e60df872",
   "metadata": {},
   "outputs": [
    {
     "name": "stdout",
     "output_type": "stream",
     "text": [
      "NeuralNetwork(\n",
      "  (flatten): Flatten(start_dim=1, end_dim=-1)\n",
      "  (linear_relu_stack): Sequential(\n",
      "    (0): Linear(in_features=784, out_features=512, bias=True)\n",
      "    (1): ReLU()\n",
      "    (2): Linear(in_features=512, out_features=512, bias=True)\n",
      "    (3): ReLU()\n",
      "    (4): Linear(in_features=512, out_features=10, bias=True)\n",
      "  )\n",
      ")\n"
     ]
    }
   ],
   "source": [
    "# Define model\n",
    "class NeuralNetwork(nn.Module):\n",
    "\n",
    "    def __init__(self):\n",
    "        super().__init__()\n",
    "\n",
    "        self.flatten = nn.Flatten()\n",
    "        self.linear_relu_stack = nn.Sequential(\n",
    "            nn.Linear(28*28, 512),\n",
    "            nn.ReLU(),\n",
    "            nn.Linear(512, 512),\n",
    "            nn.ReLU(),\n",
    "            nn.Linear(512, 10)\n",
    "        )\n",
    "\n",
    "    def forward(self, x):\n",
    "        x = self.flatten(x)\n",
    "        logits = self.linear_relu_stack(x)\n",
    "        return logits\n",
    "\n",
    "model = NeuralNetwork()\n",
    "print(model)"
   ]
  },
  {
   "cell_type": "markdown",
   "id": "e1eb5e30-a052-4d23-9eff-d18bace6282e",
   "metadata": {},
   "source": [
    "### Using the right computation architecture - CPU vs GPU"
   ]
  },
  {
   "cell_type": "code",
   "execution_count": 7,
   "id": "ac8ed90c-0092-4d5e-8d9a-d6b999c26096",
   "metadata": {},
   "outputs": [
    {
     "name": "stdout",
     "output_type": "stream",
     "text": [
      "Using cpu device\n"
     ]
    }
   ],
   "source": [
    "# Get cpu or gpu device for training.\n",
    "device = \"cuda\" if torch.cuda.is_available() else \"cpu\"\n",
    "print(f\"Using {device} device\")\n",
    "model = model.to(device)"
   ]
  },
  {
   "cell_type": "markdown",
   "id": "933f04d6-d398-4fc7-80fa-a166d6fdde49",
   "metadata": {},
   "source": [
    "### Defining the training procedure -- Loss and Optimizer"
   ]
  },
  {
   "cell_type": "code",
   "execution_count": 8,
   "id": "3ccabc6f",
   "metadata": {},
   "outputs": [],
   "source": [
    "loss_fn = nn.CrossEntropyLoss()\n",
    "optimizer = torch.optim.SGD(model.parameters(), lr=1e-3)"
   ]
  },
  {
   "cell_type": "code",
   "execution_count": 9,
   "id": "0b058610",
   "metadata": {},
   "outputs": [],
   "source": [
    "def train_epoch(dataloader, model, loss_fn, optimizer):\n",
    "    size = len(dataloader.dataset)\n",
    "    model.train()\n",
    "    for batch, (X, y) in enumerate(dataloader):\n",
    "        X, y = X.to(device), y.to(device)\n",
    "        optimizer.zero_grad()\n",
    "\n",
    "        # Compute prediction error\n",
    "        pred = model(X)\n",
    "        loss = loss_fn(pred, y)\n",
    "\n",
    "        # Backpropagation\n",
    "        loss.backward()\n",
    "        optimizer.step()\n",
    "\n",
    "        if batch % 100 == 0:\n",
    "            loss, current = loss.item(), batch * len(X)\n",
    "            print(f\"loss: {loss:>7f}  [{current:>5d}/{size:>5d}]\")\n"
   ]
  },
  {
   "cell_type": "code",
   "execution_count": 10,
   "id": "a583b02b",
   "metadata": {},
   "outputs": [],
   "source": [
    "def eval_model(dataloader, model, loss_fn):\n",
    "    size = len(dataloader.dataset)\n",
    "    num_batches = len(dataloader)\n",
    "    model.eval()\n",
    "    test_loss, correct = 0, 0\n",
    "    with torch.no_grad():\n",
    "        for X, y in dataloader:\n",
    "            X, y = X.to(device), y.to(device)\n",
    "            pred = model(X)\n",
    "            test_loss += loss_fn(pred, y).item()\n",
    "            correct += (pred.argmax(1) == y).type(torch.float).sum().item()\n",
    "    test_loss /= num_batches\n",
    "    correct /= size\n",
    "    print(f\"Test Error: \\n Accuracy: {(100*correct):>0.1f}%, Avg loss: {test_loss:>8f} \\n\")\n"
   ]
  },
  {
   "cell_type": "code",
   "execution_count": 11,
   "id": "ad59d098-745a-4db4-938b-39f1c4efad53",
   "metadata": {},
   "outputs": [
    {
     "name": "stdout",
     "output_type": "stream",
     "text": [
      "Epoch 1\n",
      "--------------------\n",
      "loss: 2.296746  [    0/60000]\n",
      "loss: 2.263142  [ 6400/60000]\n",
      "loss: 2.237259  [12800/60000]\n",
      "loss: 2.235446  [19200/60000]\n",
      "loss: 2.177714  [25600/60000]\n",
      "loss: 2.151674  [32000/60000]\n",
      "loss: 2.106089  [38400/60000]\n",
      "loss: 2.090389  [44800/60000]\n",
      "loss: 2.036337  [51200/60000]\n",
      "loss: 1.989083  [57600/60000]\n",
      "Test Error: \n",
      " Accuracy: 45.2%, Avg loss: 1.891140 \n",
      "\n",
      "Epoch 2\n",
      "--------------------\n",
      "loss: 1.975793  [    0/60000]\n",
      "loss: 1.987635  [ 6400/60000]\n",
      "loss: 1.846051  [12800/60000]\n",
      "loss: 1.876652  [19200/60000]\n",
      "loss: 1.767900  [25600/60000]\n",
      "loss: 1.756965  [32000/60000]\n",
      "loss: 1.652499  [38400/60000]\n",
      "loss: 1.726842  [44800/60000]\n",
      "loss: 1.700021  [51200/60000]\n",
      "loss: 1.671557  [57600/60000]\n",
      "Test Error: \n",
      " Accuracy: 53.1%, Avg loss: 1.417879 \n",
      "\n",
      "Epoch 3\n",
      "--------------------\n",
      "loss: 1.581877  [    0/60000]\n",
      "loss: 1.608697  [ 6400/60000]\n",
      "loss: 1.400350  [12800/60000]\n",
      "loss: 1.545740  [19200/60000]\n",
      "loss: 1.488788  [25600/60000]\n",
      "loss: 1.525581  [32000/60000]\n",
      "loss: 1.468803  [38400/60000]\n",
      "loss: 1.425979  [44800/60000]\n",
      "loss: 1.540439  [51200/60000]\n",
      "loss: 1.378766  [57600/60000]\n",
      "Test Error: \n",
      " Accuracy: 58.3%, Avg loss: 1.237530 \n",
      "\n",
      "Epoch 4\n",
      "--------------------\n",
      "loss: 1.390398  [    0/60000]\n",
      "loss: 1.482981  [ 6400/60000]\n",
      "loss: 1.254978  [12800/60000]\n",
      "loss: 1.451475  [19200/60000]\n",
      "loss: 1.413881  [25600/60000]\n",
      "loss: 1.363239  [32000/60000]\n",
      "loss: 1.283921  [38400/60000]\n",
      "loss: 1.313000  [44800/60000]\n",
      "loss: 1.380586  [51200/60000]\n",
      "loss: 1.334012  [57600/60000]\n",
      "Test Error: \n",
      " Accuracy: 60.7%, Avg loss: 1.147056 \n",
      "\n",
      "Epoch 5\n",
      "--------------------\n",
      "loss: 1.293997  [    0/60000]\n",
      "loss: 1.386286  [ 6400/60000]\n",
      "loss: 1.164120  [12800/60000]\n",
      "loss: 1.363946  [19200/60000]\n",
      "loss: 1.228103  [25600/60000]\n",
      "loss: 1.355134  [32000/60000]\n",
      "loss: 1.207119  [38400/60000]\n",
      "loss: 1.202924  [44800/60000]\n",
      "loss: 1.272496  [51200/60000]\n",
      "loss: 1.284654  [57600/60000]\n",
      "Test Error: \n",
      " Accuracy: 62.6%, Avg loss: 1.076430 \n",
      "\n",
      "Done!\n"
     ]
    }
   ],
   "source": [
    "epochs = 5\n",
    "\n",
    "train_dataloader = DataLoader(training_data, batch_size=batch_size)\n",
    "test_dataloader = DataLoader(test_data, batch_size=batch_size)\n",
    "for t in range(epochs):\n",
    "    print(f\"Epoch {t+1}\\n{'-' * 20}\")\n",
    "    train_epoch(train_dataloader, model, loss_fn, optimizer)\n",
    "    eval_model(test_dataloader, model, loss_fn)\n",
    "print(\"Done!\")"
   ]
  },
  {
   "cell_type": "markdown",
   "id": "3188fd49-28b8-45c7-9ade-83ca7ed68fd4",
   "metadata": {},
   "source": [
    "### Computational bottleneck for NN training\n",
    "\n",
    "We now explore the computational bottleneck for training the network with `snakeviz`."
   ]
  },
  {
   "cell_type": "code",
   "execution_count": 13,
   "id": "b4a85ff7-db71-4df5-85f3-66945a19c962",
   "metadata": {},
   "outputs": [],
   "source": [
    "%load_ext snakeviz"
   ]
  },
  {
   "cell_type": "code",
   "execution_count": 14,
   "id": "aa7a7e98",
   "metadata": {},
   "outputs": [
    {
     "name": "stdout",
     "output_type": "stream",
     "text": [
      "Epoch 1\n",
      "-------------------------------\n",
      "loss: 1.261948  [    0/60000]\n",
      "loss: 1.232226  [ 6400/60000]\n",
      "loss: 1.027392  [12800/60000]\n",
      "loss: 1.267196  [19200/60000]\n",
      "loss: 1.252985  [25600/60000]\n",
      "loss: 1.249158  [32000/60000]\n",
      "loss: 1.149755  [38400/60000]\n",
      "loss: 1.190495  [44800/60000]\n",
      "loss: 1.379774  [51200/60000]\n",
      "loss: 1.167565  [57600/60000]\n",
      "Test Error: \n",
      " Accuracy: 64.3%, Avg loss: 1.015493 \n",
      "\n",
      "Epoch 2\n",
      "-------------------------------\n",
      "loss: 1.244510  [    0/60000]\n",
      "loss: 1.214655  [ 6400/60000]\n",
      "loss: 1.012857  [12800/60000]\n",
      "loss: 1.203403  [19200/60000]\n",
      "loss: 1.146710  [25600/60000]\n",
      "loss: 1.193430  [32000/60000]\n",
      "loss: 1.128819  [38400/60000]\n",
      "loss: 1.102476  [44800/60000]\n",
      "loss: 1.216871  [51200/60000]\n",
      "loss: 1.115336  [57600/60000]\n",
      "Test Error: \n",
      " Accuracy: 66.0%, Avg loss: 0.963412 \n",
      "\n",
      "Done!\n",
      " \n",
      "*** Profile stats marshalled to file '/var/folders/7t/pqn1g_1j729gzxpp_k1qhd2h0000gn/T/tmp2aeoqveq'.\n",
      "Embedding SnakeViz in this document...\n"
     ]
    },
    {
     "data": {
      "text/html": [
       "\n",
       "<iframe id='snakeviz-ba2cf804-fea7-11ec-b49c-acde48001122' frameborder=0 seamless width='100%' height='1000'></iframe>\n",
       "<script>document.getElementById(\"snakeviz-ba2cf804-fea7-11ec-b49c-acde48001122\").setAttribute(\"src\", \"http://\" + document.location.hostname + \":8080/snakeviz/%2Fvar%2Ffolders%2F7t%2Fpqn1g_1j729gzxpp_k1qhd2h0000gn%2FT%2Ftmp2aeoqveq\")</script>\n"
      ],
      "text/plain": [
       "<IPython.core.display.HTML object>"
      ]
     },
     "metadata": {},
     "output_type": "display_data"
    }
   ],
   "source": [
    "%%snakeviz\n",
    "\n",
    "epochs = 2\n",
    "num_workers = 1  # set it to 8 to see what it changes\n",
    "\n",
    "train_dataloader = DataLoader(training_data, batch_size=batch_size, num_workers=num_workers)\n",
    "test_dataloader = DataLoader(test_data, batch_size=batch_size, num_workers=num_workers)\n",
    "for t in range(epochs):\n",
    "    print(f\"Epoch {t+1}\\n-------------------------------\")\n",
    "    train_epoch(train_dataloader, model, loss_fn, optimizer)\n",
    "    eval_model(test_dataloader, model, loss_fn)\n",
    "print(\"Done!\")\n",
    "\n",
    "# Run on terminal to visualise\n",
    "# snakeviz /var/folders/7t/pqn1g_1j729gzxpp_k1qhd2h0000gn/T/tmp2aeoqveq"
   ]
  },
  {
   "cell_type": "code",
   "execution_count": null,
   "id": "3b60021d",
   "metadata": {},
   "outputs": [],
   "source": []
  }
 ],
 "metadata": {
  "kernelspec": {
   "display_name": "Python 3.9.12 ('generic-ds')",
   "language": "python",
   "name": "python3"
  },
  "language_info": {
   "codemirror_mode": {
    "name": "ipython",
    "version": 3
   },
   "file_extension": ".py",
   "mimetype": "text/x-python",
   "name": "python",
   "nbconvert_exporter": "python",
   "pygments_lexer": "ipython3",
   "version": "3.9.12"
  },
  "vscode": {
   "interpreter": {
    "hash": "647f924417267d90f3da3ee671ffcb129c0bb46d67263b32e0c520f6cb690629"
   }
  }
 },
 "nbformat": 4,
 "nbformat_minor": 5
}
